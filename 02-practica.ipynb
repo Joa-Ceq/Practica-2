{
 "cells": [
  {
   "cell_type": "code",
   "execution_count": null,
   "metadata": {},
   "outputs": [],
   "source": [
    "# PUNTO 1\n",
    "import this\n",
    "import codecs\n",
    "\n",
    "zen_text = codecs.decode(this.s, \"rot_13\")\n",
    "\n",
    "sentences = zen_text.split(\"\\n\")\n",
    "print()\n",
    "\n",
    "for sentence in sentences:\n",
    "    words = sentence.split()\n",
    "    if len(words)> 0 and (words[1][0] == \"a\" or words[1][0] == \"e\" or words[1][0] == \"i\" or words[1][0] == \"o\" or words[1][0] == \"u\"):\n",
    "        string = \" \".join(words)\n",
    "        print(string)\n",
    "        "
   ]
  },
  {
   "cell_type": "code",
   "execution_count": null,
   "metadata": {},
   "outputs": [],
   "source": [
    "# PUNTO 2\n",
    "titles = [\n",
    "\"Speedrun de Super Mario en tiempo récord\",\n",
    "\"Charla sobre desarrollo de videojuegos\",\n",
    "\"Jugando al nuevo FPS del momento con amigos\",\n",
    "\"Música en vivo: improvisaciones al piano\"\n",
    "]\n",
    "\n",
    "max = float(\"-inf\")\n",
    "for sentence in titles:\n",
    "    words = sentence.split()\n",
    "    if len(words) > max:\n",
    "        max = len(words)\n",
    "        string = \" \".join(words)\n",
    "print(string)"
   ]
  },
  {
   "cell_type": "code",
   "execution_count": null,
   "metadata": {},
   "outputs": [],
   "source": [
    "# PUNTO 3\n",
    "rules = \"\"\"Respeta a los demás. No se permiten insultos ni lenguaje ofensivo.\n",
    "Evita el spam. No publiques enlaces sospechosos o repetitivos.\n",
    "No compartas información personal.\n",
    "Usa los canales adecuados para cada tema.\n",
    "Sigue las instrucciones de los moderadores.\"\"\"\n",
    "\n",
    "word = input(\"Ingrese palabra clave: \")\n",
    "\n",
    "lista = rules.split(\"\\n\")\n",
    "\n",
    "for sentence in lista:\n",
    "    if word in sentence:\n",
    "        print(sentence)"
   ]
  },
  {
   "cell_type": "code",
   "execution_count": null,
   "metadata": {},
   "outputs": [],
   "source": [
    "# PUNTO 4\n",
    "nombre_usuario = input(\"Ingrese su nombre de usuario: \")\n",
    "\n",
    "tiene_numero, tiene_mayuscula, otros = False, False, True\n",
    "if len(nombre_usuario) < 5:\n",
    "    print(\"El nombre de usuario no cumple con los requisitos.\")\n",
    "else:\n",
    "    for i in nombre_usuario:\n",
    "        #Comprobamos si el caracter es un número\n",
    "        if 48 <= ord(i) <= 57:\n",
    "            tiene_numero = True\n",
    "        #Comprobamos si el caracter es una mayúscula\n",
    "        if 65 <= ord(i) <= 90:\n",
    "            tiene_mayuscula = True\n",
    "        #Comprobamos si no tiene ningún otro tipo de caracter\n",
    "        if 97 <= ord(i) <= 122:\n",
    "            otros = False\n",
    "    if tiene_mayuscula and tiene_numero and (not otros):\n",
    "        print(\"El nombre de usuario es válido.\")\n",
    "    else:\n",
    "        print(\"El nombre de usuario no cumple con los requisitos.\")\n"
   ]
  },
  {
   "cell_type": "code",
   "execution_count": null,
   "metadata": {},
   "outputs": [],
   "source": [
    "# PUNTO 5\n",
    "tiempo = int(input(\"Ingrese su tiempo de reacción en milisegundos: \"))\n",
    "if tiempo < 200:\n",
    "    print(\"Categoría: Rápido\")\n",
    "elif 200 <= tiempo < 500:\n",
    "    print(\"Categoría: Normal\")\n",
    "else:\n",
    "    print(\"Categoría: Lento\")"
   ]
  },
  {
   "cell_type": "code",
   "execution_count": null,
   "metadata": {},
   "outputs": [],
   "source": [
    "# PUNTO 6\n",
    "import re\n",
    "\n",
    "def contar_palabras(descriptions, word):\n",
    "    palabra = rf\"\\b{re.escape(word)}\\b\"\n",
    "    contar = re.findall(palabra, descriptions)\n",
    "    return len(contar)\n",
    "\n",
    "descriptions = [\n",
    "\"Streaming de música en vivo con covers y composiciones\",\n",
    "\"Charla interactiva con la audiencia sobre series y películas\",\n",
    "\"Jugamos a juegos retro y charlamos sobre su historia\",\n",
    "\"Exploramos la mejor música de los 80s y 90s\",\n",
    "\"Programa de entretenimiento con noticias y curiosidades del mundo gamer\",\n",
    "\"Sesión de charla con invitados especiales del mundo del streaming\",\n",
    "\"Música en directo con improvisaciones y peticiones del chat\",\n",
    "\"Un espacio para charlar relajada sobre tecnología y cultura digital\",\n",
    "\"Exploramos el impacto de la música en los videojuegos clásicos\"\n",
    "]\n",
    "\n",
    "charla, musica, entretenimiento = 0, 0, 0\n",
    "for sentence in descriptions:\n",
    "    sentence = sentence.lower()\n",
    "    charla += contar_palabras(sentence, \"charla\")\n",
    "    musica += contar_palabras(sentence, \"música\")\n",
    "    entretenimiento += contar_palabras(sentence, \"entretenimiento\")\n",
    "\n",
    "print(f\"Menciones de 'música': {musica}\")\n",
    "print(f\"Menciones de 'charla': {charla}\")\n",
    "print(f\"Menciones de 'entretenimiento': {entretenimiento}\")"
   ]
  },
  {
   "cell_type": "code",
   "execution_count": null,
   "metadata": {},
   "outputs": [],
   "source": [
    "# PUNTO 7\n",
    "from datetime import datetime\n",
    "import random\n",
    "import string\n",
    "\n",
    "user = input(\"Ingrese su nombre de usuario\")\n",
    "fecha = datetime.today().date()\n",
    "formatted = fecha.strftime(\"%Y%m%d\")\n",
    "\n",
    "if len(user) > 15:\n",
    "    print(\"Nombre de usuario demasiado largo.\")\n",
    "else:\n",
    "    codigo = user.upper() + \"-\" + formatted + \"-\"\n",
    "    for i in range (1, (31-len(codigo))):\n",
    "        codigo = codigo + random.choice(string.ascii_uppercase + string.digits)\n",
    "    print(codigo)"
   ]
  },
  {
   "cell_type": "code",
   "execution_count": null,
   "metadata": {},
   "outputs": [],
   "source": [
    "# PUNTO 8\n",
    "palabra_1 = input(\"Ingrese la primera palabra: \")\n",
    "palabra_2 = input(\"Ingrese la segunda palabra: \")\n",
    "\n",
    "anagrama = False\n",
    "if len(palabra_1) != len(palabra_2):\n",
    "    print(\"No son anagramas\")\n",
    "else:\n",
    "    for letra in palabra_1:\n",
    "        if letra in palabra_2 and palabra_1.count(letra) == palabra_2.count(letra):\n",
    "            anagrama = True\n",
    "        else:\n",
    "            anagrama = False\n",
    "\n",
    "    if anagrama:\n",
    "        print(\"Son anagramas.\")\n",
    "    else:\n",
    "        print(\"No son anagramas.\")\n",
    "    "
   ]
  },
  {
   "cell_type": "code",
   "execution_count": null,
   "metadata": {},
   "outputs": [
    {
     "name": "stdout",
     "output_type": "stream",
     "text": [
      "['Alejandro González', 'Ana López', 'Andrés Ocampo', 'Carlos Mendes', 'Claudia Torres', 'Damián Castillo', 'Gabriela Ruíz', 'Juan Pérez', 'Laura Ramos', 'Luis Rodríguez', 'Maria Martínez', 'Marta Suárez', 'María Martínez', 'Miguel Ángel', 'Monica Herrera', 'Patricia Vega', 'Pedro Gómez', 'Ricardo Fernández', 'Sandra Morales']\n"
     ]
    }
   ],
   "source": [
    "# PUNTO 9\n",
    "import unicodedata\n",
    "\n",
    "def normalize(text):\n",
    "    return ''.join(c for c in unicodedata.normalize('NFD', text) if unicodedata.category(c) != 'Mn').lower()\n",
    "\n",
    "clients = [\n",
    "\" Ana López \", \"Pedro Gómez\", \"maria martínez\", \"Pedro Gómez \", \"\",\n",
    "\" Luis Rodríguez \", None, \"ana lópez\", \"JUAN PÉREZ\", \"MARTA SUÁREZ\",\n",
    "\"luis rodríguez\", \"maría martínez \", \" claudia torres\", \"CLAUDIA TORRES\",\n",
    "\" \", \"pedro gómez\", \"Juan Pérez\", None, \"Ricardo Fernández\", \"LAURA RAMOS\",\n",
    "\"carlos mendes\", \"RICARDO FERNÁNDEZ \", \" Laura ramos\", \"CARLOS MENDES\",\n",
    "\"alejandro gonzález\", \" ALEJANDRO GONZÁLEZ \", \"Patricia Vega\",\n",
    "\"patricia VEGA\", \"Andrés Ocampo\", \" andrés ocampo\", \"Monica Herrera\",\n",
    "\"MONICA HERRERA \", \"gabriela ruíz\", \"Gabriela Ruíz\", \"sandra morales\",\n",
    "\"SANDRA MORALES\", \"miguel ángel\", \"Miguel Ángel \", \" Damián Castillo\",\n",
    "\"Damián Castillo \", None, \"\", \" \"\n",
    "]\n",
    "\n",
    "clientes = set()\n",
    "\n",
    "for nombre in clients:\n",
    "    if nombre == None:\n",
    "        continue\n",
    "    else:\n",
    "        nombre = nombre.strip()\n",
    "        nombre = nombre.title()\n",
    "        clientes.add(nombre)\n",
    "\n",
    "lista = list(clientes)\n",
    "\n",
    "lista.remove(\"\")\n",
    "lista.sort()\n",
    "\n",
    "print(lista)"
   ]
  }
 ],
 "metadata": {
  "kernelspec": {
   "display_name": "Python 3",
   "language": "python",
   "name": "python3"
  },
  "language_info": {
   "codemirror_mode": {
    "name": "ipython",
    "version": 3
   },
   "file_extension": ".py",
   "mimetype": "text/x-python",
   "name": "python",
   "nbconvert_exporter": "python",
   "pygments_lexer": "ipython3",
   "version": "3.12.9"
  }
 },
 "nbformat": 4,
 "nbformat_minor": 2
}
