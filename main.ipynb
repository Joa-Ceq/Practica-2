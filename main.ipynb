{
 "cells": [
  {
   "cell_type": "code",
   "execution_count": null,
   "id": "c97285e2",
   "metadata": {},
   "outputs": [],
   "source": [
    "rounds = [\n",
    "{\n",
    "\"Shadow\": {\"kills\": 2, \"assists\": 1, \"deaths\": True},\n",
    "\"Blaze\": {\"kills\": 1, \"assists\": 0, \"deaths\": False},\n",
    "\"Viper\": {\"kills\": 1, \"assists\": 2, \"deaths\": True},\n",
    "\"Frost\": {\"kills\": 0, \"assists\": 1, \"deaths\": False},\n",
    "\"Reaper\": {\"kills\": 1, \"assists\": 1, \"deaths\": False}\n",
    "},\n",
    "\n",
    "{\n",
    "\"Shadow\": {\"kills\": 0, \"assists\": 2, \"deaths\": False},\n",
    "\"Blaze\": {\"kills\": 2, \"assists\": 0, \"deaths\": True},\n",
    "\"Viper\": {\"kills\": 1, \"assists\": 1, \"deaths\": False},\n",
    "\"Frost\": {\"kills\": 2, \"assists\": 1, \"deaths\": True},\n",
    "\"Reaper\": {\"kills\": 0, \"assists\": 1, \"deaths\": False}\n",
    "},\n",
    "\n",
    "{\n",
    "\"Shadow\": {\"kills\": 1, \"assists\": 0, \"deaths\": False},\n",
    "\"Blaze\": {\"kills\": 2, \"assists\": 2, \"deaths\": True},\n",
    "\"Viper\": {\"kills\": 1, \"assists\": 1, \"deaths\": True},\n",
    "\"Frost\": {\"kills\": 0, \"assists\": 1, \"deaths\": False},\n",
    "\"Reaper\": {\"kills\": 1, \"assists\": 1, \"deaths\": False}\n",
    "},\n",
    "\n",
    "{\n",
    "\"Shadow\": {\"kills\": 2, \"assists\": 1, \"deaths\": False},\n",
    "\"Blaze\": {\"kills\": 1, \"assists\": 0, \"deaths\": True},\n",
    "\"Viper\": {\"kills\": 0, \"assists\": 2, \"deaths\": False},\n",
    "\"Frost\": {\"kills\": 1, \"assists\": 1, \"deaths\": True},\n",
    "\"Reaper\": {\"kills\": 1, \"assists\": 1, \"deaths\": False}\n",
    "},\n",
    "\n",
    "{\n",
    "\"Shadow\": {\"kills\": 1, \"assists\": 2, \"deaths\": True},\n",
    "\"Blaze\": {\"kills\": 0, \"assists\": 1, \"deaths\": False},\n",
    "\"Viper\": {\"kills\": 2, \"assists\": 0, \"deaths\": True},\n",
    "\"Frost\": {\"kills\": 1, \"assists\": 1, \"deaths\": False},\n",
    "\"Reaper\": {\"kills\": 1, \"assists\": 1, \"deaths\": True}\n",
    "}\n",
    "]"
   ]
  },
  {
   "cell_type": "code",
   "execution_count": null,
   "id": "7b9e1895",
   "metadata": {},
   "outputs": [],
   "source": []
  }
 ],
 "metadata": {
  "kernelspec": {
   "display_name": "venv",
   "language": "python",
   "name": "python3"
  },
  "language_info": {
   "name": "python",
   "version": "3.12.9"
  }
 },
 "nbformat": 4,
 "nbformat_minor": 5
}
