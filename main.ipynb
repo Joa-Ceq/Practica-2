{
 "cells": [
  {
   "cell_type": "code",
   "execution_count": 1,
   "id": "c97285e2",
   "metadata": {},
   "outputs": [],
   "source": [
    "rounds = [\n",
    "{\n",
    "\"Shadow\": {\"kills\": 2, \"assists\": 1, \"deaths\": True},\n",
    "\"Blaze\": {\"kills\": 1, \"assists\": 0, \"deaths\": False},\n",
    "\"Viper\": {\"kills\": 1, \"assists\": 2, \"deaths\": True},\n",
    "\"Frost\": {\"kills\": 0, \"assists\": 1, \"deaths\": False},\n",
    "\"Reaper\": {\"kills\": 1, \"assists\": 1, \"deaths\": False}\n",
    "},\n",
    "\n",
    "{\n",
    "\"Shadow\": {\"kills\": 0, \"assists\": 2, \"deaths\": False},\n",
    "\"Blaze\": {\"kills\": 2, \"assists\": 0, \"deaths\": True},\n",
    "\"Viper\": {\"kills\": 1, \"assists\": 1, \"deaths\": False},\n",
    "\"Frost\": {\"kills\": 2, \"assists\": 1, \"deaths\": True},\n",
    "\"Reaper\": {\"kills\": 0, \"assists\": 1, \"deaths\": False}\n",
    "},\n",
    "\n",
    "{\n",
    "\"Shadow\": {\"kills\": 1, \"assists\": 0, \"deaths\": False},\n",
    "\"Blaze\": {\"kills\": 2, \"assists\": 2, \"deaths\": True},\n",
    "\"Viper\": {\"kills\": 1, \"assists\": 1, \"deaths\": True},\n",
    "\"Frost\": {\"kills\": 0, \"assists\": 1, \"deaths\": False},\n",
    "\"Reaper\": {\"kills\": 1, \"assists\": 1, \"deaths\": False}\n",
    "},\n",
    "\n",
    "{\n",
    "\"Shadow\": {\"kills\": 2, \"assists\": 1, \"deaths\": False},\n",
    "\"Blaze\": {\"kills\": 1, \"assists\": 0, \"deaths\": True},\n",
    "\"Viper\": {\"kills\": 0, \"assists\": 2, \"deaths\": False},\n",
    "\"Frost\": {\"kills\": 1, \"assists\": 1, \"deaths\": True},\n",
    "\"Reaper\": {\"kills\": 1, \"assists\": 1, \"deaths\": False}\n",
    "},\n",
    "\n",
    "{\n",
    "\"Shadow\": {\"kills\": 1, \"assists\": 2, \"deaths\": True},\n",
    "\"Blaze\": {\"kills\": 0, \"assists\": 1, \"deaths\": False},\n",
    "\"Viper\": {\"kills\": 2, \"assists\": 0, \"deaths\": True},\n",
    "\"Frost\": {\"kills\": 1, \"assists\": 1, \"deaths\": False},\n",
    "\"Reaper\": {\"kills\": 1, \"assists\": 1, \"deaths\": True}\n",
    "}\n",
    "]"
   ]
  },
  {
   "cell_type": "code",
   "execution_count": 2,
   "id": "7b9e1895",
   "metadata": {},
   "outputs": [
    {
     "name": "stdout",
     "output_type": "stream",
     "text": [
      "Shadow: {'kills': 6, 'assists': 6, 'deaths': 2, 'MVPs': 2, 'score': 22}\n",
      "Blaze: {'kills': 6, 'assists': 3, 'deaths': 3, 'MVPs': 1, 'score': 18}\n",
      "Viper: {'kills': 5, 'assists': 6, 'deaths': 3, 'MVPs': 1, 'score': 18}\n",
      "Reaper: {'kills': 4, 'assists': 5, 'deaths': 1, 'MVPs': 0, 'score': 16}\n",
      "Frost: {'kills': 4, 'assists': 5, 'deaths': 2, 'MVPs': 1, 'score': 15}\n"
     ]
    }
   ],
   "source": [
    "from src.process import main, sort_players\n",
    "\n",
    "player_totals = {}\n",
    "\n",
    "for round_data in rounds:\n",
    "    player_totals = main(round_data, player_totals)\n",
    "\n",
    "sort_players(player_totals)"
   ]
  }
 ],
 "metadata": {
  "kernelspec": {
   "display_name": "venv",
   "language": "python",
   "name": "python3"
  },
  "language_info": {
   "codemirror_mode": {
    "name": "ipython",
    "version": 3
   },
   "file_extension": ".py",
   "mimetype": "text/x-python",
   "name": "python",
   "nbconvert_exporter": "python",
   "pygments_lexer": "ipython3",
   "version": "3.12.9"
  }
 },
 "nbformat": 4,
 "nbformat_minor": 5
}
